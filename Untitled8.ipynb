{
  "metadata": {
    "language_info": {
      "codemirror_mode": {
        "name": "python",
        "version": 3
      },
      "file_extension": ".py",
      "mimetype": "text/x-python",
      "name": "python",
      "nbconvert_exporter": "python",
      "pygments_lexer": "ipython3",
      "version": "3.8"
    },
    "kernelspec": {
      "name": "python",
      "display_name": "Python (Pyodide)",
      "language": "python"
    }
  },
  "nbformat_minor": 4,
  "nbformat": 4,
  "cells": [
    {
      "cell_type": "code",
      "source": "graph = {\n    'A' : ['B','C'],\n    'B' : ['D', 'E'],\n    'C' : ['F', 'H'],\n    'D' : ['I', 'J'],\n    'E' : ['G', 'K'],\n    'F' : ['L', 'M'],\n    'G' : [],\n    'H' : ['N', 'G'],\n    'I' : [],\n    'J' : [],\n    'K' : [],\n    'L' : [],\n    'M' : [],\n    'N' : [],\n}\n\nvisited = [] \nqueue = []     \n\ndef bfs(visited, graph, node): \n  visited.append(node)\n  queue.append(node)\n\n  while queue:         \n    m = queue.pop(0) \n    print (m, end = \" \") \n\n    for neighbour in graph[m]:\n      if neighbour not in visited:\n        visited.append(neighbour)\n        queue.append(neighbour)\n        \nbfs(visited, graph, 'F')",
      "metadata": {
        "trusted": true
      },
      "execution_count": 1,
      "outputs": [
        {
          "name": "stdout",
          "text": "F L M ",
          "output_type": "stream"
        }
      ]
    },
    {
      "cell_type": "code",
      "source": "",
      "metadata": {},
      "execution_count": null,
      "outputs": []
    }
  ]
}