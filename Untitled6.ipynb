{
  "metadata": {
    "language_info": {
      "codemirror_mode": {
        "name": "python",
        "version": 3
      },
      "file_extension": ".py",
      "mimetype": "text/x-python",
      "name": "python",
      "nbconvert_exporter": "python",
      "pygments_lexer": "ipython3",
      "version": "3.8"
    },
    "kernelspec": {
      "name": "python",
      "display_name": "Python (Pyodide)",
      "language": "python"
    }
  },
  "nbformat_minor": 4,
  "nbformat": 4,
  "cells": [
    {
      "cell_type": "code",
      "source": "from collections import defaultdict\n\nclass Graph():\n    def __init__(self):\n        \"\"\"\n        self.edges is a dict of all possible next nodes\n        e.g. {'X': ['A', 'B', 'C', 'E'], ...}\n        self.weights has all the weights between two nodes,\n        with the two nodes as a tuple as the key\n        e.g. {('X', 'A'): 7, ('X', 'B'): 2, ...}\n        \"\"\"\n        self.edges = defaultdict(list)\n        self.weights = {}\n    \n    def add_edge(self, from_node, to_node, weight):\n        # Note: assumes edges are bi-directional\n        self.edges[from_node].append(to_node)\n        self.edges[to_node].append(from_node)\n        self.weights[(from_node, to_node)] = weight\n        self.weights[(to_node, from_node)] = weight",
      "metadata": {
        "trusted": true
      },
      "execution_count": 1,
      "outputs": []
    },
    {
      "cell_type": "code",
      "source": "graph = Graph()",
      "metadata": {
        "trusted": true
      },
      "execution_count": 2,
      "outputs": []
    },
    {
      "cell_type": "code",
      "source": "edges = [\n    ('X', 'A', 7),\n    ('X', 'B', 2),\n    ('X', 'C', 3),\n    ('X', 'E', 4),\n    ('A', 'B', 3),\n    ('A', 'D', 4),\n    ('B', 'D', 6),\n    ('B', 'H', 5),\n    ('C', 'L', 2),\n    ('D', 'F', 3),\n    ('F', 'H', 3),\n    ('G', 'H', 2),\n    ('G', 'Y', 2),\n    ('I', 'J', 6),\n    ('I', 'K', 4),\n    ('I', 'L', 4),\n    ('J', 'L', 1),\n    ('K', 'Y', 5),\n]\nfor edge in edges:\n    graph.add_edge(*edge)",
      "metadata": {
        "trusted": true
      },
      "execution_count": 8,
      "outputs": []
    },
    {
      "cell_type": "code",
      "source": "def dijsktra(graph, initial, end):\n    # shortest paths is a dict of nodes\n    # whose value is a tuple of (previous node, weight)\n    shortest_paths = {initial: (None, 0)}\n    current_node = initial\n    visited = set()\n    \n    while current_node != end:\n        visited.add(current_node)\n        destinations = graph.edges[current_node]\n        weight_to_current_node = shortest_paths[current_node][1]\n\n        for next_node in destinations:\n            weight = graph.weights[(current_node, next_node)] + weight_to_current_node\n            if next_node not in shortest_paths:\n                shortest_paths[next_node] = (current_node, weight)\n            else:\n                current_shortest_weight = shortest_paths[next_node][1]\n                if current_shortest_weight > weight:\n                    shortest_paths[next_node] = (current_node, weight)\n        \n        next_destinations = {node: shortest_paths[node] for node in shortest_paths if node not in visited}\n        if not next_destinations:\n            return \"Route Not Possible\"\n        # next node is the destination with the lowest weight\n        current_node = min(next_destinations, key=lambda k: next_destinations[k][1])\n    \n    # Work back through destinations in shortest path\n    path = []\n    while current_node is not None:\n        path.append(current_node)\n        next_node = shortest_paths[current_node][0]\n        current_node = next_node\n    # Reverse path\n    path = path[::-1]\n    return path",
      "metadata": {
        "trusted": true
      },
      "execution_count": 9,
      "outputs": []
    },
    {
      "cell_type": "code",
      "source": "dijsktra(graph, 'X', 'Y')",
      "metadata": {
        "trusted": true
      },
      "execution_count": 10,
      "outputs": [
        {
          "execution_count": 10,
          "output_type": "execute_result",
          "data": {
            "text/plain": "['X', 'B', 'H', 'G', 'Y']"
          },
          "metadata": {}
        }
      ]
    },
    {
      "cell_type": "code",
      "source": "",
      "metadata": {},
      "execution_count": null,
      "outputs": []
    }
  ]
}