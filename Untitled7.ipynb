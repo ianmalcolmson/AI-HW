{
  "metadata": {
    "language_info": {
      "codemirror_mode": {
        "name": "python",
        "version": 3
      },
      "file_extension": ".py",
      "mimetype": "text/x-python",
      "name": "python",
      "nbconvert_exporter": "python",
      "pygments_lexer": "ipython3",
      "version": "3.8"
    },
    "kernelspec": {
      "name": "python",
      "display_name": "Python (Pyodide)",
      "language": "python"
    }
  },
  "nbformat_minor": 4,
  "nbformat": 4,
  "cells": [
    {
      "cell_type": "code",
      "source": "graph = {\n    'A' : ['B','C'],\n    'B' : ['D', 'E'],\n    'C' : ['F', 'H'],\n    'D' : ['I', 'J'],\n    'E' : ['G', 'K'],\n    'F' : ['L', 'M'],\n    'G' : [],\n    'H' : ['N', 'G'],\n    'I' : [],\n    'J' : [],\n    'K' : [],\n    'L' : [],\n    'M' : [],\n    'N' : [],\n}\n\nvisited = set() # Set to keep track of visited nodes.\n\ndef dfs(visited, graph, node):\n    if node not in visited:\n        print (node)\n        visited.add(node)\n        for neighbour in graph[node]:\n            dfs(visited, graph, neighbour)\n\ndfs(visited, graph, 'F')",
      "metadata": {
        "trusted": true
      },
      "execution_count": 8,
      "outputs": [
        {
          "name": "stdout",
          "text": "F\nL\nM\n",
          "output_type": "stream"
        }
      ]
    },
    {
      "cell_type": "code",
      "source": "",
      "metadata": {},
      "execution_count": null,
      "outputs": []
    }
  ]
}